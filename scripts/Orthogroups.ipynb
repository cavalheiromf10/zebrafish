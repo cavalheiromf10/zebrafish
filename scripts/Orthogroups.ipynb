{
 "cells": [
  {
   "cell_type": "markdown",
   "id": "b05c9bd3",
   "metadata": {},
   "source": [
    "## 1. Identification of orthologue proteins"
   ]
  },
  {
   "cell_type": "code",
   "execution_count": null,
   "id": "567d7d29",
   "metadata": {},
   "outputs": [],
   "source": [
    "# Importar bibliotecas\n",
    "import pandas as pd"
   ]
  },
  {
   "cell_type": "code",
   "execution_count": null,
   "id": "4f9085b5",
   "metadata": {},
   "outputs": [],
   "source": [
    "# Importando arquivo\n",
    "ortogrupos = pd.read_csv(\"../orthofinder/Orthogroups/Orthogroups.tsv\", sep=\"\\t\")\n",
    "# Removendo NAs, extraindo pares de ortologs\n",
    "ortologos_zh = ortogrupos.dropna()"
   ]
  },
  {
   "cell_type": "markdown",
   "id": "808ec213",
   "metadata": {},
   "source": [
    "________"
   ]
  },
  {
   "cell_type": "markdown",
   "id": "9d1e4090",
   "metadata": {},
   "source": [
    "## 2. Protein alignment and statistics"
   ]
  },
  {
   "cell_type": "code",
   "execution_count": 4,
   "id": "35dedd3c",
   "metadata": {},
   "outputs": [],
   "source": [
    "# Importando as bibliotecas necessárias\n",
    "from Bio import SeqIO, Align\n",
    "from Bio.Align import substitution_matrices\n",
    "import glob\n",
    "import pandas as pd\n",
    "import os\n",
    "from itertools import combinations"
   ]
  },
  {
   "cell_type": "code",
   "execution_count": 5,
   "id": "a5b10bf7",
   "metadata": {},
   "outputs": [],
   "source": [
    "# Função para ler o arquivo Orthologues.tsv e criar a lista de nomes\n",
    "def ler_orthologues_tsv(orthologues_path):\n",
    "    orthologues_df = pd.read_csv(orthologues_path, sep='\\t')\n",
    "    orthologues_df.dropna(inplace=True)\n",
    "    return list(orthologues_df.iloc[:, 0])\n",
    "\n",
    "# Função para carregar sequências em um arquivo FASTA para SeqRecord\n",
    "def carregar_seqrecord(fasta_path):\n",
    "    return list(SeqIO.parse(fasta_path, 'fasta'))"
   ]
  },
  {
   "cell_type": "code",
   "execution_count": 6,
   "id": "00e80675",
   "metadata": {},
   "outputs": [],
   "source": [
    "# Definindo os diretórios\n",
    "orthologues_dir = '../orthofinder/Orthogroups'\n",
    "orthogroup_sequences_dir = '../orthofinder/Orthogroup_Sequences'"
   ]
  },
  {
   "cell_type": "code",
   "execution_count": 7,
   "id": "b1b0e6a8",
   "metadata": {},
   "outputs": [],
   "source": [
    "# Definindo parametros do alinhamento\n",
    "matrix = substitution_matrices.load(\"BLASTP\")\n",
    "aligner = Align.PairwiseAligner()\n",
    "aligner.substitution_matrix = matrix"
   ]
  },
  {
   "cell_type": "code",
   "execution_count": 6,
   "id": "acc78b5c",
   "metadata": {},
   "outputs": [],
   "source": [
    "# Ler os ortogrupos de interesse\n",
    "orthogroups = ler_orthologues_tsv(os.path.join(orthologues_dir, 'Orthogroups.tsv'))\n",
    "\n",
    "# Inicializar o dataframe vazio\n",
    "df_results = []\n",
    "\n",
    "# Carregar as sequências de cada ortogrupo e alinhar os pares de sequências\n",
    "for orthogroup in orthogroups:\n",
    "    orthogroupSeqRecord = carregar_seqrecord(os.path.join(orthogroup_sequences_dir, f'{orthogroup}.fa'))\n",
    "\n",
    "    results = []\n",
    "    combination_list = list(combinations(orthogroupSeqRecord,2))\n",
    "\n",
    "    for i in range(len(combination_list)):\n",
    "        alignments = aligner.align(combination_list[i][0], combination_list[i][1])\n",
    "        alignment = alignments[0]\n",
    "        \n",
    "        results.append({\n",
    "        \"orthogroup\" : f'{orthogroup}',\n",
    "        \"query\": alignment.query.id,\n",
    "        \"target_id\": alignment.target.id,\n",
    "        \"per_identity\": round((alignment.counts()[1] * 100)/alignment.length, 2),\n",
    "        \"per_similarity\": round((alignment.counts()[2] * 100)/alignment.length, 2),\n",
    "        \"length\": alignment.length,\n",
    "        \"score\": round(alignment.score, 2),\n",
    "        \"gaps\": alignment.counts()[0],\n",
    "        \"identities\": alignment.counts()[1],\n",
    "        \"mismatches\": alignment.counts()[2]\n",
    "    })\n",
    "    \n",
    "    df_results.append(pd.DataFrame(results))\n",
    "    \n",
    "dfFinal = pd.concat(df_results)\n",
    "dfFinal.to_csv('../results/orthogroup_alignments.tsv', sep='\\t', index=False)"
   ]
  },
  {
   "cell_type": "markdown",
   "id": "ab3a3d49",
   "metadata": {},
   "source": [
    "## 3. Seleção de alvos em epilepsia"
   ]
  },
  {
   "cell_type": "code",
   "execution_count": 35,
   "id": "db3fc043",
   "metadata": {},
   "outputs": [],
   "source": [
    "# Importar bibliotecas\n",
    "import pandas as pd\n",
    "from unipressed import IdMappingClient\n",
    "import time"
   ]
  },
  {
   "cell_type": "code",
   "execution_count": 36,
   "id": "27c42a3a",
   "metadata": {},
   "outputs": [],
   "source": [
    "#Loading data\n",
    "epilepsy_genes = pd.read_excel(\"../data/EpilepsyGene_1482_IDs_EGNF.xlsx\")\n",
    "epilepsy_genes.drop(columns=[\"UniProt_ID\"], inplace=True)\n",
    "epilepsy_genes[\"Entrez_ID\"] = epilepsy_genes[\"Entrez_ID\"].astype(str)\n",
    "\n",
    "# Getting the Entrez IDs and converting them to UniProt IDsa\n",
    "entrez_epi = epilepsy_genes[\"Entrez_ID\"].tolist()"
   ]
  },
  {
   "cell_type": "code",
   "execution_count": 37,
   "id": "90120137",
   "metadata": {},
   "outputs": [
    {
     "data": {
      "text/plain": [
       "1482"
      ]
     },
     "execution_count": 37,
     "metadata": {},
     "output_type": "execute_result"
    }
   ],
   "source": [
    "len(entrez_epi)"
   ]
  },
  {
   "cell_type": "code",
   "execution_count": 38,
   "id": "36aff40f",
   "metadata": {},
   "outputs": [],
   "source": [
    "# Getting matches IDs\n",
    "request = IdMappingClient.submit(\n",
    "    source=\"GeneID\", dest=\"UniProtKB\", ids={str(x) for x in entrez_epi}\n",
    ")\n",
    "time.sleep(1)\n",
    "results_list = list(request.each_result())"
   ]
  },
  {
   "cell_type": "code",
   "execution_count": 39,
   "id": "45bb2580",
   "metadata": {},
   "outputs": [],
   "source": [
    "entrez2uniprot = pd.DataFrame(results_list)\n",
    "entrez2uniprot.rename(columns={\"from\": \"Entrez_ID\", \"to\": \"UniProt_ID\"}, inplace=True)\n",
    "entrez2uniprot.to_csv(\"../results/entrez2uniprot.epilepsy.tsv\", sep=\"\\t\", index=False)\n",
    "# entrez2uniprot.groupby(\"Entrez_ID\")['UniProt_ID'].apply(lambda x: ','.join(x)).reset_index()\n",
    "# entrez2uniprot['UniProt_ID'] = entrez2uniprot['UniProt_ID'].apply(lambda x: [x for x in x.split(',')])\n",
    "# epilepsy_ids = epilepsy_genes.merge(entrez2uniprot)\n",
    "# epilepsy_ids = epilepsy_ids.explode(\"UniProt_ID\")"
   ]
  },
  {
   "cell_type": "code",
   "execution_count": 14,
   "id": "6215171a",
   "metadata": {},
   "outputs": [],
   "source": [
    "uniprot_epi = epilepsy_ids['UniProt_ID'].to_list()"
   ]
  },
  {
   "cell_type": "code",
   "execution_count": 15,
   "id": "d3808462",
   "metadata": {},
   "outputs": [],
   "source": [
    "# Loading the orthologues file\n",
    "df_orthologues = pd.read_csv('../orthofinder/Orthologues/Orthologues_Human.UniProt.renamed/Human.UniProt.renamed__v__Zebrafish.UniProt.renamed.tsv', sep='\\t')\n",
    "\n",
    "# Manipulating dataframe to filter only the epilepsy genes\n",
    "df_orthologues['Human.UniProt.renamed'] = df_orthologues['Human.UniProt.renamed'].apply(lambda x: [x for x in x.split(',')])\n",
    "df_orthologues['Zebrafish.UniProt.renamed'] = df_orthologues['Zebrafish.UniProt.renamed'].apply(lambda x: [x for x in x.split(',')])\n",
    "df_orthologues = df_orthologues.explode('Human.UniProt.renamed').explode('Zebrafish.UniProt.renamed')"
   ]
  },
  {
   "cell_type": "code",
   "execution_count": 16,
   "id": "a742b203",
   "metadata": {},
   "outputs": [],
   "source": [
    "orthologues_epi = df_orthologues[df_orthologues['Human.UniProt.renamed'].isin(uniprot_epi)]"
   ]
  },
  {
   "cell_type": "code",
   "execution_count": 30,
   "id": "103a8f00",
   "metadata": {},
   "outputs": [
    {
     "data": {
      "text/plain": [
       "Orthogroup                   1261\n",
       "Human.UniProt.renamed        1300\n",
       "Zebrafish.UniProt.renamed    1505\n",
       "dtype: int64"
      ]
     },
     "execution_count": 30,
     "metadata": {},
     "output_type": "execute_result"
    }
   ],
   "source": [
    "orthologues_epi.nunique()"
   ]
  },
  {
   "cell_type": "code",
   "execution_count": 34,
   "id": "8b5e6bef",
   "metadata": {},
   "outputs": [
    {
     "ename": "NameError",
     "evalue": "name 'orthologues_epi' is not defined",
     "output_type": "error",
     "traceback": [
      "\u001b[0;31m---------------------------------------------------------------------------\u001b[0m",
      "\u001b[0;31mNameError\u001b[0m                                 Traceback (most recent call last)",
      "Cell \u001b[0;32mIn[34], line 1\u001b[0m\n\u001b[0;32m----> 1\u001b[0m \u001b[43morthologues_epi\u001b[49m\n",
      "\u001b[0;31mNameError\u001b[0m: name 'orthologues_epi' is not defined"
     ]
    }
   ],
   "source": [
    "orthologues_epi"
   ]
  },
  {
   "cell_type": "markdown",
   "id": "fc479d17",
   "metadata": {},
   "source": [
    "## 5. Paralogue analysis"
   ]
  },
  {
   "cell_type": "code",
   "execution_count": 12,
   "id": "da7448bb",
   "metadata": {},
   "outputs": [],
   "source": [
    "import pandas as pd\n",
    "from itertools import combinations"
   ]
  },
  {
   "cell_type": "code",
   "execution_count": null,
   "id": "174d7e8c",
   "metadata": {},
   "outputs": [],
   "source": [
    "#Loeading the orthologues file\n",
    "df_orthologues = pd.read_csv('../orthofinder/Orthologues/Orthologues_Human.UniProt.renamed/Human.UniProt.renamed__v__Zebrafish.UniProt.renamed.tsv', sep='\\t')\n",
    "\n",
    "#Separating paralogous genes in human\n",
    "hs_genes = df_orthologues[\"Human.UniProt.renamed\"].str.strip().apply(lambda x: x.split(',')).explode().reset_index(drop=True).to_list()\n",
    "hs_genes = [x.strip() for x in hs_genes]\n",
    "\n",
    "#Separating paralogous genes in zebrafish\n",
    "zb_genes = df_orthologues[\"Zebrafish.UniProt.renamed\"].str.strip().apply(lambda x: x.split(',')).explode().reset_index(drop=True).to_list()\n",
    "zb_genes = [x.strip() for x in zb_genes]"
   ]
  },
  {
   "cell_type": "code",
   "execution_count": 33,
   "id": "98501f31",
   "metadata": {},
   "outputs": [],
   "source": [
    "df = pd.read_table('../results/orthogroup_alignments.tsv')\n",
    "\n",
    "#Separating paralogous genes in dataframes\n",
    "hs_paralogues = df[(df['query'].isin(hs_genes)) & (df['target_id'].isin(hs_genes))]\n",
    "zb_paralogues = df[(df['query'].isin(zb_genes)) & (df['target_id'].isin(zb_genes))]\n",
    "\n",
    "#Separating orthologous genes in dataframes\n",
    "zb_hs_orthologues = df[(df['query'].isin(zb_genes)) & (df['target_id'].isin(hs_genes))]\n",
    "\n",
    "#Saving dataframes\n",
    "hs_paralogues.to_csv('../results/hs_paralogues.all.tsv', sep='\\t', index=False)\n",
    "zb_paralogues.to_csv('../results/zb_paralogues.all.tsv', sep='\\t', index=False)\n",
    "zb_hs_orthologues.to_csv('../results/zb_hs_orthologues.all.tsv', sep='\\t', index=False)"
   ]
  }
 ],
 "metadata": {
  "kernelspec": {
   "display_name": "jupyterEnv",
   "language": "python",
   "name": "python3"
  },
  "language_info": {
   "codemirror_mode": {
    "name": "ipython",
    "version": 3
   },
   "file_extension": ".py",
   "mimetype": "text/x-python",
   "name": "python",
   "nbconvert_exporter": "python",
   "pygments_lexer": "ipython3",
   "version": "3.11.9"
  }
 },
 "nbformat": 4,
 "nbformat_minor": 5
}
