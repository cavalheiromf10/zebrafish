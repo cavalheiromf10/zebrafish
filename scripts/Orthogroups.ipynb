{
 "cells": [
  {
   "cell_type": "markdown",
   "id": "b05c9bd3",
   "metadata": {},
   "source": [
    "## 1. Identificação de proteínas ortólogas"
   ]
  },
  {
   "cell_type": "code",
   "execution_count": null,
   "id": "567d7d29",
   "metadata": {},
   "outputs": [],
   "source": [
    "# Importar bibliotecas\n",
    "import pandas as pd"
   ]
  },
  {
   "cell_type": "code",
   "execution_count": null,
   "id": "4f9085b5",
   "metadata": {},
   "outputs": [],
   "source": [
    "# Importando arquivo\n",
    "ortogrupos = pd.read_csv(\"../orthofinder/Orthogroups/Orthogroups.tsv\", sep=\"\\t\")\n",
    "# Removendo NAs, extraindo pares de ortologs\n",
    "ortologos_zh = ortogrupos.dropna()\n"
   ]
  },
  {
   "cell_type": "markdown",
   "id": "808ec213",
   "metadata": {},
   "source": [
    "________"
   ]
  },
  {
   "cell_type": "markdown",
   "id": "9d1e4090",
   "metadata": {},
   "source": [
    "## 2. Caracterização de proteínas"
   ]
  },
  {
   "cell_type": "code",
   "execution_count": null,
   "id": "35dedd3c",
   "metadata": {},
   "outputs": [],
   "source": [
    "# Importando as bibliotecas necessárias\n",
    "from Bio import SeqIO, Align\n",
    "from Bio.Align import substitution_matrices\n",
    "import glob\n",
    "import pandas as pd\n",
    "import os\n",
    "from itertools import combinations"
   ]
  },
  {
   "cell_type": "code",
   "execution_count": null,
   "id": "a5b10bf7",
   "metadata": {},
   "outputs": [],
   "source": [
    "# Função para ler o arquivo Orthologues.tsv e criar a lista de nomes\n",
    "def ler_orthologues_tsv(orthologues_path):\n",
    "    orthologues_df = pd.read_csv(orthologues_path, sep='\\t')\n",
    "    orthologues_df.dropna(inplace=True)\n",
    "    return list(orthologues_df.iloc[:, 0])\n",
    "\n",
    "# Função para carregar sequências em um arquivo FASTA para SeqRecord\n",
    "def carregar_seqrecord(fasta_path):\n",
    "    return list(SeqIO.parse(fasta_path, 'fasta'))"
   ]
  },
  {
   "cell_type": "code",
   "execution_count": null,
   "id": "00e80675",
   "metadata": {},
   "outputs": [],
   "source": [
    "# Definindo os diretórios\n",
    "orthologues_dir = '../orthofinder/Orthogroups'\n",
    "orthogroup_sequences_dir = '../orthofinder/Orthogroup_Sequences'"
   ]
  },
  {
   "cell_type": "code",
   "execution_count": null,
   "id": "b1b0e6a8",
   "metadata": {},
   "outputs": [],
   "source": [
    "# Definindo parametros do alinhamento\n",
    "matrix = substitution_matrices.load(\"BLASTP\")\n",
    "aligner = Align.PairwiseAligner()\n",
    "aligner.substitution_matrix = matrix"
   ]
  },
  {
   "cell_type": "code",
   "execution_count": null,
   "id": "acc78b5c",
   "metadata": {},
   "outputs": [],
   "source": [
    "# Ler os ortogrupos de interesse\n",
    "orthogroups = ler_orthologues_tsv(os.path.join(orthologues_dir, 'Orthogroups.tsv'))\n",
    "\n",
    "# Inicializar o dataframe vazio\n",
    "df_results = []\n",
    "\n",
    "# Carregar as sequências de cada ortogrupo e alinhar os pares de sequências\n",
    "for orthogroup in orthogroups:\n",
    "    orthogroupSeqRecord = carregar_seqrecord(os.path.join(orthogroup_sequences_dir, f'{orthogroup}.fa'))\n",
    "\n",
    "    results = []\n",
    "    combination_list = list(combinations(orthogroupSeqRecord,2))\n",
    "\n",
    "    for i in range(len(combination_list)):\n",
    "        alignments = aligner.align(combination_list[i][0], combination_list[i][1])\n",
    "        alignment = alignments[0]\n",
    "        \n",
    "        results.append({\n",
    "        \"orthogroup\" : f'{orthogroup}',\n",
    "        \"query\": alignment.query.id,\n",
    "        \"target_id\": alignment.target.id,\n",
    "        \"per_identity\": round((alignment.counts()[1] * 100)/alignment.length, 2),\n",
    "        \"length\": alignment.length,\n",
    "        \"score\": round(alignment.score, 2),\n",
    "        \"gaps\": alignment.counts()[0],\n",
    "        \"identities\": alignment.counts()[1],\n",
    "        \"mismatches\": alignment.counts()[2]\n",
    "    })\n",
    "    \n",
    "    df_results.append(pd.DataFrame(results))\n",
    "    \n",
    "dfFinal = pd.concat(df_results)\n",
    "dfFinal.to_csv('../results/orthogroup_alignments.tsv', sep='\\t', index=False)"
   ]
  },
  {
   "cell_type": "code",
   "execution_count": null,
   "id": "ee2a8ab5",
   "metadata": {},
   "outputs": [],
   "source": []
  },
  {
   "cell_type": "markdown",
   "id": "ab3a3d49",
   "metadata": {},
   "source": [
    "## 3. Seleção de alvos em epilepsia"
   ]
  },
  {
   "cell_type": "code",
   "execution_count": 20,
   "id": "db3fc043",
   "metadata": {},
   "outputs": [],
   "source": [
    "# Importar bibliotecas\n",
    "import pandas as pd\n",
    "from unipressed import IdMappingClient\n",
    "import time"
   ]
  },
  {
   "cell_type": "code",
   "execution_count": 80,
   "id": "27c42a3a",
   "metadata": {},
   "outputs": [],
   "source": [
    "#Loading data\n",
    "epilepsy_genes = pd.read_excel(\"../data/EpilepsyGene_1482_IDs_EGNF.xlsx\")\n",
    "epilepsy_genes.drop(columns=[\"UniProt_ID\"], inplace=True)\n",
    "epilepsy_genes[\"Entrez_ID\"] = epilepsy_genes[\"Entrez_ID\"].astype(str)\n",
    "\n",
    "# Getting the Entrez IDs and converting them to UniProt IDsa\n",
    "entrez_epi = epilepsy_genes[\"Entrez_ID\"].tolist()"
   ]
  },
  {
   "cell_type": "code",
   "execution_count": 78,
   "id": "36aff40f",
   "metadata": {},
   "outputs": [],
   "source": [
    "# # Getting matches IDs\n",
    "# request = IdMappingClient.submit(\n",
    "#     source=\"GeneID\", dest=\"UniProtKB\", ids={str(x) for x in entrez_epi}\n",
    "# )\n",
    "# time.sleep(1)\n",
    "# results_list = list(request.each_result())\n",
    "\n",
    "entrez2uniprot = pd.DataFrame(results_list)"
   ]
  },
  {
   "cell_type": "code",
   "execution_count": 79,
   "id": "6ca374f2",
   "metadata": {},
   "outputs": [],
   "source": [
    "entrez2uniprot.rename(columns={\"from\": \"Entrez_ID\", \"to\": \"UniProt_ID\"}, inplace=True)\n",
    "entrez2uniprot.groupby(\"Entrez_ID\")['UniProt_ID'].apply(lambda x: ','.join(x)).reset_index()\n",
    "entrez2uniprot['UniProt_ID'] = entrez2uniprot['UniProt_ID'].apply(lambda x: [x for x in x.split(',')])\n"
   ]
  },
  {
   "cell_type": "code",
   "execution_count": 81,
   "id": "6b2e4af8",
   "metadata": {},
   "outputs": [],
   "source": [
    "epilepsy_ids = epilepsy_genes.merge(entrez2uniprot)\n",
    "epilepsy_ids = epilepsy_ids.explode(\"UniProt_ID\")"
   ]
  },
  {
   "cell_type": "code",
   "execution_count": 88,
   "id": "6215171a",
   "metadata": {},
   "outputs": [],
   "source": [
    "uniprot_epi = epilepsy_ids['UniProt_ID'].to_list()"
   ]
  },
  {
   "cell_type": "code",
   "execution_count": 89,
   "id": "d3808462",
   "metadata": {},
   "outputs": [],
   "source": [
    "# Loading the orthologues file\n",
    "df_orthologues = pd.read_csv('../orthofinder/Orthologues/Orthologues_Human.UniProt.renamed/Human.UniProt.renamed__v__Zebrafish.UniProt.renamed.tsv', sep='\\t')\n",
    "\n",
    "# Manipulating dataframe to filter only the epilepsy genes\n",
    "df_orthologues['Human.UniProt.renamed'] = df_orthologues['Human.UniProt.renamed'].apply(lambda x: [x for x in x.split(',')])\n",
    "df_orthologues['Zebrafish.UniProt.renamed'] = df_orthologues['Zebrafish.UniProt.renamed'].apply(lambda x: [x for x in x.split(',')])\n",
    "df_orthologues = df_orthologues.explode('Human.UniProt.renamed').explode('Zebrafish.UniProt.renamed')"
   ]
  },
  {
   "cell_type": "code",
   "execution_count": 91,
   "id": "a742b203",
   "metadata": {},
   "outputs": [],
   "source": [
    "orthologues_epi = df_orthologues[df_orthologues['Human.UniProt.renamed'].isin(uniprot_epi)]"
   ]
  },
  {
   "cell_type": "code",
   "execution_count": 92,
   "id": "103a8f00",
   "metadata": {},
   "outputs": [
    {
     "data": {
      "text/html": [
       "<div>\n",
       "<style scoped>\n",
       "    .dataframe tbody tr th:only-of-type {\n",
       "        vertical-align: middle;\n",
       "    }\n",
       "\n",
       "    .dataframe tbody tr th {\n",
       "        vertical-align: top;\n",
       "    }\n",
       "\n",
       "    .dataframe thead th {\n",
       "        text-align: right;\n",
       "    }\n",
       "</style>\n",
       "<table border=\"1\" class=\"dataframe\">\n",
       "  <thead>\n",
       "    <tr style=\"text-align: right;\">\n",
       "      <th></th>\n",
       "      <th>Orthogroup</th>\n",
       "      <th>Human.UniProt.renamed</th>\n",
       "      <th>Zebrafish.UniProt.renamed</th>\n",
       "    </tr>\n",
       "  </thead>\n",
       "  <tbody>\n",
       "    <tr>\n",
       "      <th>8</th>\n",
       "      <td>OG0000033</td>\n",
       "      <td>O43464</td>\n",
       "      <td>A0A8M9PLT5</td>\n",
       "    </tr>\n",
       "    <tr>\n",
       "      <th>8</th>\n",
       "      <td>OG0000033</td>\n",
       "      <td>O43464</td>\n",
       "      <td>A0A8M9QCM4</td>\n",
       "    </tr>\n",
       "    <tr>\n",
       "      <th>8</th>\n",
       "      <td>OG0000033</td>\n",
       "      <td>O43464</td>\n",
       "      <td>A0A8M9Q3F7</td>\n",
       "    </tr>\n",
       "    <tr>\n",
       "      <th>8</th>\n",
       "      <td>OG0000033</td>\n",
       "      <td>O43464</td>\n",
       "      <td>A0A8M9QCM8</td>\n",
       "    </tr>\n",
       "    <tr>\n",
       "      <th>8</th>\n",
       "      <td>OG0000033</td>\n",
       "      <td>O43464</td>\n",
       "      <td>A0A8M9QCV4</td>\n",
       "    </tr>\n",
       "    <tr>\n",
       "      <th>...</th>\n",
       "      <td>...</td>\n",
       "      <td>...</td>\n",
       "      <td>...</td>\n",
       "    </tr>\n",
       "    <tr>\n",
       "      <th>12952</th>\n",
       "      <td>OG0013280</td>\n",
       "      <td>Q9NPF4</td>\n",
       "      <td>Q5RHZ6</td>\n",
       "    </tr>\n",
       "    <tr>\n",
       "      <th>12969</th>\n",
       "      <td>OG0013297</td>\n",
       "      <td>Q14654</td>\n",
       "      <td>Q2HX26</td>\n",
       "    </tr>\n",
       "    <tr>\n",
       "      <th>12988</th>\n",
       "      <td>OG0013316</td>\n",
       "      <td>Q96QK1</td>\n",
       "      <td>Q6ZM34</td>\n",
       "    </tr>\n",
       "    <tr>\n",
       "      <th>12989</th>\n",
       "      <td>OG0013317</td>\n",
       "      <td>Q9BSJ2</td>\n",
       "      <td>Q7SYD6</td>\n",
       "    </tr>\n",
       "    <tr>\n",
       "      <th>12998</th>\n",
       "      <td>OG0013326</td>\n",
       "      <td>Q9UBB4</td>\n",
       "      <td>B3DJT3</td>\n",
       "    </tr>\n",
       "  </tbody>\n",
       "</table>\n",
       "<p>1505 rows × 3 columns</p>\n",
       "</div>"
      ],
      "text/plain": [
       "      Orthogroup Human.UniProt.renamed Zebrafish.UniProt.renamed\n",
       "8      OG0000033                O43464                A0A8M9PLT5\n",
       "8      OG0000033                O43464                A0A8M9QCM4\n",
       "8      OG0000033                O43464                A0A8M9Q3F7\n",
       "8      OG0000033                O43464                A0A8M9QCM8\n",
       "8      OG0000033                O43464                A0A8M9QCV4\n",
       "...          ...                   ...                       ...\n",
       "12952  OG0013280                Q9NPF4                    Q5RHZ6\n",
       "12969  OG0013297                Q14654                    Q2HX26\n",
       "12988  OG0013316                Q96QK1                    Q6ZM34\n",
       "12989  OG0013317                Q9BSJ2                    Q7SYD6\n",
       "12998  OG0013326                Q9UBB4                    B3DJT3\n",
       "\n",
       "[1505 rows x 3 columns]"
      ]
     },
     "execution_count": 92,
     "metadata": {},
     "output_type": "execute_result"
    }
   ],
   "source": [
    "orthologues_epi"
   ]
  },
  {
   "cell_type": "code",
   "execution_count": null,
   "id": "710fc9d7",
   "metadata": {},
   "outputs": [],
   "source": []
  },
  {
   "cell_type": "code",
   "execution_count": null,
   "id": "e4448d8f",
   "metadata": {},
   "outputs": [],
   "source": [
    "Orthogroups.tsv\n",
    "\n",
    "\n",
    "# Lista de genes canônicos relacionados à epilepsia em zebrafish\n",
    "#genes_epilepsia = [...]  # Substitua pela sua lista\n",
    "\n",
    "# Filtrar ortólogos e gerar arquivo de saída\n",
    "# ... (implementar a lógica de filtragem e salvar os resultados)"
   ]
  },
  {
   "cell_type": "markdown",
   "id": "fc479d17",
   "metadata": {},
   "source": [
    "## 5. Identificação e análise de duplicados"
   ]
  },
  {
   "cell_type": "code",
   "execution_count": null,
   "id": "2d4bcd84",
   "metadata": {},
   "outputs": [],
   "source": [
    "# Importar bibliotecas\n",
    "import pandas as pd\n",
    "from Bio import SeqIO\n",
    "# ... (importar outras bibliotecas necessárias)\n",
    "\n",
    "# Ler arquivos de saída do OrthoFinder\n",
    "# ... (ler os arquivos necessários para identificar duplicatas)\n",
    "\n",
    "# Identificar e comparar duplicatas\n",
    "# ... (implementar a lógica de identificação e comparação)\n",
    "\n",
    "# Salvar resultados\n",
    "# ... (salvar as informações de comparação)"
   ]
  }
 ],
 "metadata": {
  "kernelspec": {
   "display_name": "jupyterEnv",
   "language": "python",
   "name": "python3"
  },
  "language_info": {
   "codemirror_mode": {
    "name": "ipython",
    "version": 3
   },
   "file_extension": ".py",
   "mimetype": "text/x-python",
   "name": "python",
   "nbconvert_exporter": "python",
   "pygments_lexer": "ipython3",
   "version": "3.11.9"
  }
 },
 "nbformat": 4,
 "nbformat_minor": 5
}
