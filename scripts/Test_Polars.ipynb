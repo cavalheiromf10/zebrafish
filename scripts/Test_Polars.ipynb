{
 "cells": [
  {
   "cell_type": "code",
   "execution_count": 17,
   "metadata": {},
   "outputs": [],
   "source": [
    "import pandas as pd\n",
    "import polars as pl\n",
    "from itertools import combinations"
   ]
  },
  {
   "cell_type": "code",
   "execution_count": 20,
   "metadata": {},
   "outputs": [],
   "source": [
    "# Loading the orthologues file\n",
    "df_orthologues = pd.read_csv('../orthofinder/Orthologues/Orthologues_Human.UniProt.renamed/Human.UniProt.renamed__v__Zebrafish.UniProt.renamed.tsv', sep='\\t')"
   ]
  },
  {
   "cell_type": "code",
   "execution_count": 21,
   "metadata": {},
   "outputs": [
    {
     "data": {
      "text/html": [
       "<div>\n",
       "<style scoped>\n",
       "    .dataframe tbody tr th:only-of-type {\n",
       "        vertical-align: middle;\n",
       "    }\n",
       "\n",
       "    .dataframe tbody tr th {\n",
       "        vertical-align: top;\n",
       "    }\n",
       "\n",
       "    .dataframe thead th {\n",
       "        text-align: right;\n",
       "    }\n",
       "</style>\n",
       "<table border=\"1\" class=\"dataframe\">\n",
       "  <thead>\n",
       "    <tr style=\"text-align: right;\">\n",
       "      <th></th>\n",
       "      <th>Orthogroup</th>\n",
       "      <th>Human.UniProt.renamed</th>\n",
       "      <th>Zebrafish.UniProt.renamed</th>\n",
       "    </tr>\n",
       "  </thead>\n",
       "  <tbody>\n",
       "    <tr>\n",
       "      <th>0</th>\n",
       "      <td>OG0000001</td>\n",
       "      <td>Q8N8Y5, Q9BWE0</td>\n",
       "      <td>A0A8M9PE23, A5PMB3, A0A8M9PS52, A0A8M6Z426, A0...</td>\n",
       "    </tr>\n",
       "    <tr>\n",
       "      <th>1</th>\n",
       "      <td>OG0000002</td>\n",
       "      <td>P17041</td>\n",
       "      <td>A0A8M2B8I0, A0A8M2B8C9, A0A8M3B583, A0A0R4IIT7...</td>\n",
       "    </tr>\n",
       "    <tr>\n",
       "      <th>2</th>\n",
       "      <td>OG0000004</td>\n",
       "      <td>Q8N3J9, Q6ZT77, Q49A33, Q7Z3I7, P17026</td>\n",
       "      <td>A0A8M9QD26, A0A8M9Q1U3, A0A8M9QCD6, A0A8M6Z051...</td>\n",
       "    </tr>\n",
       "    <tr>\n",
       "      <th>3</th>\n",
       "      <td>OG0000012</td>\n",
       "      <td>Q6ZU45</td>\n",
       "      <td>A3QJU1, A5WUG5, A0A8M9Q143, A5WUH2, A0A8M1RF17...</td>\n",
       "    </tr>\n",
       "    <tr>\n",
       "      <th>4</th>\n",
       "      <td>OG0000014</td>\n",
       "      <td>Q7Z2Y8</td>\n",
       "      <td>A0A8M1QV59, A0A8M3B823, F1Q8X3, A0A8M2BH17, A0...</td>\n",
       "    </tr>\n",
       "  </tbody>\n",
       "</table>\n",
       "</div>"
      ],
      "text/plain": [
       "  Orthogroup                   Human.UniProt.renamed  \\\n",
       "0  OG0000001                          Q8N8Y5, Q9BWE0   \n",
       "1  OG0000002                                  P17041   \n",
       "2  OG0000004  Q8N3J9, Q6ZT77, Q49A33, Q7Z3I7, P17026   \n",
       "3  OG0000012                                  Q6ZU45   \n",
       "4  OG0000014                                  Q7Z2Y8   \n",
       "\n",
       "                           Zebrafish.UniProt.renamed  \n",
       "0  A0A8M9PE23, A5PMB3, A0A8M9PS52, A0A8M6Z426, A0...  \n",
       "1  A0A8M2B8I0, A0A8M2B8C9, A0A8M3B583, A0A0R4IIT7...  \n",
       "2  A0A8M9QD26, A0A8M9Q1U3, A0A8M9QCD6, A0A8M6Z051...  \n",
       "3  A3QJU1, A5WUG5, A0A8M9Q143, A5WUH2, A0A8M1RF17...  \n",
       "4  A0A8M1QV59, A0A8M3B823, F1Q8X3, A0A8M2BH17, A0...  "
      ]
     },
     "execution_count": 21,
     "metadata": {},
     "output_type": "execute_result"
    }
   ],
   "source": [
    "df_orthologues.head()"
   ]
  },
  {
   "cell_type": "code",
   "execution_count": 31,
   "metadata": {},
   "outputs": [
    {
     "ename": "SyntaxError",
     "evalue": "invalid syntax (389620553.py, line 2)",
     "output_type": "error",
     "traceback": [
      "\u001b[0;36m  Cell \u001b[0;32mIn[31], line 2\u001b[0;36m\u001b[0m\n\u001b[0;31m    hs_paralogues = [row for row in hs_genes if len(row) > 1 else None]\u001b[0m\n\u001b[0m                                                             ^\u001b[0m\n\u001b[0;31mSyntaxError\u001b[0m\u001b[0;31m:\u001b[0m invalid syntax\n"
     ]
    }
   ],
   "source": [
    "hs_genes = df_orthologues[\"Human.UniProt.renamed\"].apply(lambda x: x.split(','))\n",
    "hs_paralogues = [row for row in hs_genes if len(row) > 1 else None]"
   ]
  },
  {
   "cell_type": "code",
   "execution_count": 30,
   "metadata": {},
   "outputs": [
    {
     "data": {
      "text/plain": [
       "1375"
      ]
     },
     "execution_count": 30,
     "metadata": {},
     "output_type": "execute_result"
    }
   ],
   "source": [
    "len(dd)"
   ]
  },
  {
   "cell_type": "code",
   "execution_count": 19,
   "metadata": {},
   "outputs": [],
   "source": [
    "zb_paralogues = df.groupby('orthogroup')['query'].unique().apply(lambda x: ','.join(x)).str.split(',').to_list()\n",
    "combination_list = []\n",
    "for l in zb_paralogues:\n",
    "    combination_list.append(list(combinations(l,2)))\n",
    "    \n",
    "combination_list = [item for sublist in combination_list for item in sublist]"
   ]
  },
  {
   "cell_type": "code",
   "execution_count": null,
   "metadata": {},
   "outputs": [],
   "source": [
    "hs_paralogues = df.groupby('orthogroup')['query'].unique().apply(lambda x: ','.join(x)).str.split(',').to_list()\n",
    "combination_list = []\n",
    "for l in zb_paralogues:\n",
    "    combination_list.append(list(combinations(l,2)))\n",
    "    \n",
    "combination_list = [item for sublist in combination_list for item in sublist]"
   ]
  }
 ],
 "metadata": {
  "kernelspec": {
   "display_name": "jupyterEnv",
   "language": "python",
   "name": "python3"
  },
  "language_info": {
   "codemirror_mode": {
    "name": "ipython",
    "version": 3
   },
   "file_extension": ".py",
   "mimetype": "text/x-python",
   "name": "python",
   "nbconvert_exporter": "python",
   "pygments_lexer": "ipython3",
   "version": "3.11.9"
  }
 },
 "nbformat": 4,
 "nbformat_minor": 2
}
